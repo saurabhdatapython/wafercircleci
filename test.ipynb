{
 "cells": [
  {
   "cell_type": "code",
   "execution_count": 1,
   "metadata": {},
   "outputs": [],
   "source": [
    "import pandas as pd"
   ]
  },
  {
   "cell_type": "code",
   "execution_count": 2,
   "metadata": {},
   "outputs": [],
   "source": [
    "file_path=\"/home/avnish/iNeuron_Private_Intelligence_Limited/MachineLearningProject/Wafer-Fault-Detection-using-Machine-Learning/wafer/artifact/data_ingestion/2022-06-08-19-37-08/split_data/train/wafer.csv\""
   ]
  },
  {
   "cell_type": "code",
   "execution_count": 3,
   "metadata": {},
   "outputs": [],
   "source": [
    "df=pd.read_csv(file_path)"
   ]
  },
  {
   "cell_type": "code",
   "execution_count": 4,
   "metadata": {},
   "outputs": [
    {
     "data": {
      "text/plain": [
       "array([['Wafer-1043', 3180.09, 2327.29, ..., 0.0023, 15.7327, -1],\n",
       "       ['Wafer-952', 3075.1, 2614.51, ..., 0.0028, 34.1793, -1],\n",
       "       ['Wafer-901', 3037.62, 2431.93, ..., 0.0017, 31.0176, -1],\n",
       "       ...,\n",
       "       ['Wafer-1471', 3107.42, 2404.67, ..., 0.0089, 176.9394, -1],\n",
       "       ['Wafer-1536', 2894.92, 2532.01, ..., 0.0075, 93.4941, -1],\n",
       "       ['Wafer-1203', 3071.18, 2489.86, ..., 0.0033, 35.0279, -1]],\n",
       "      dtype=object)"
      ]
     },
     "execution_count": 4,
     "metadata": {},
     "output_type": "execute_result"
    }
   ],
   "source": [
    "df.values"
   ]
  },
  {
   "cell_type": "code",
   "execution_count": 4,
   "metadata": {},
   "outputs": [],
   "source": [
    "df=df.iloc[:,:-1]"
   ]
  },
  {
   "cell_type": "code",
   "execution_count": 6,
   "metadata": {},
   "outputs": [],
   "source": [
    "model_path=\"/home/avnish/iNeuron_Private_Intelligence_Limited/MachineLearningProject/Wafer-Fault-Detection-using-Machine-Learning/wafer/artifact/model_trainer/2022-06-08-15-47-48/trained_model/model.pkl\""
   ]
  },
  {
   "cell_type": "code",
   "execution_count": 7,
   "metadata": {},
   "outputs": [],
   "source": [
    "from app_util import load_object"
   ]
  },
  {
   "cell_type": "code",
   "execution_count": 9,
   "metadata": {},
   "outputs": [],
   "source": [
    "model=load_object(model_path)"
   ]
  },
  {
   "cell_type": "code",
   "execution_count": 11,
   "metadata": {},
   "outputs": [],
   "source": []
  },
  {
   "cell_type": "code",
   "execution_count": 15,
   "metadata": {},
   "outputs": [],
   "source": [
    "model_index=model.clustering_obj.predict(df_p)"
   ]
  },
  {
   "cell_type": "code",
   "execution_count": 22,
   "metadata": {},
   "outputs": [],
   "source": [
    "import numpy as np"
   ]
  },
  {
   "cell_type": "code",
   "execution_count": 48,
   "metadata": {},
   "outputs": [],
   "source": []
  },
  {
   "cell_type": "code",
   "execution_count": 56,
   "metadata": {},
   "outputs": [],
   "source": [
    "df_p=model.preprocessing.transform(df)\n",
    "pred_arr=np.c_[df_p,pd.DataFrame([np.NaN]*df_p.shape[0],columns=[\"prediction\"])]\n",
    "for model_ix in range(len(model.model_obj_list)):\n",
    "    selected_record=model_index==model_ix\n",
    "    pred_arr[selected_record,-1]=model.model_obj_list[model_ix].predict(df_p[selected_record])\n",
    "    "
   ]
  },
  {
   "cell_type": "code",
   "execution_count": 58,
   "metadata": {},
   "outputs": [],
   "source": [
    "df=pd.DataFrame(pred_arr)"
   ]
  },
  {
   "cell_type": "code",
   "execution_count": null,
   "metadata": {},
   "outputs": [],
   "source": []
  },
  {
   "cell_type": "code",
   "execution_count": null,
   "metadata": {},
   "outputs": [],
   "source": []
  }
 ],
 "metadata": {
  "interpreter": {
   "hash": "b245c6fbe907339d63f7bfa5453783f0a540ac0c15ddaa1df5cdcfe42cb7de59"
  },
  "kernelspec": {
   "display_name": "Python 3.7.0",
   "language": "python",
   "name": "python3"
  },
  "language_info": {
   "codemirror_mode": {
    "name": "ipython",
    "version": 3
   },
   "file_extension": ".py",
   "mimetype": "text/x-python",
   "name": "python",
   "nbconvert_exporter": "python",
   "pygments_lexer": "ipython3",
   "version": "3.7.0"
  },
  "orig_nbformat": 4
 },
 "nbformat": 4,
 "nbformat_minor": 2
}
